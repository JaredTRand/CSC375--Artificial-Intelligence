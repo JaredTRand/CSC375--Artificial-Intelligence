{
  "cells": [
    {
      "metadata": {},
      "cell_type": "markdown",
      "source": "# Project 1: Vacuum Cleaner Agent\n## Author: Jared Rand\n\n"
    },
    {
      "metadata": {},
      "cell_type": "markdown",
      "source": "### Purpose:\nInvesitgate the creation, application and assesment of an agent program.\n\n# Introduction:\nIn this project we were meant to create an agent for a vacuum cleaner that runs in a 10x10 room made of squares. The vacuum cleaner would start in a random position in the room, along with a number of squares that are randomly become dirty based on a given probability. The vacuum runs for a given number of steps each time the program is run and cleans as many dirty spaces as it can reach. The performance of an agent is calculated by dividing the amount of dirt cleaned by the amount dirt total. The measure for each agent is found by running the simulation 200 times for each dirt probability (10%, 20%, 30%) and averaging the resultss.\n\n\nThe agents we were meant to make are seen below:\n\n- Simple (deterministic) reflex agent (just sense, act, sense, act), the agent has a dirt sensor and a bump sensor. It can clean, turn (left or right), and move forward.\n\n- Simple (random) reflex agent, as above but can take a random action.\n\n- A reflex agent which is deterministic but can remember the last 4 sensor inputs and last 4 actions."
    },
    {
      "metadata": {},
      "cell_type": "markdown",
      "source": "# Discussion Of Solution:\n\n## Simple Agent"
    },
    {
      "metadata": {
        "collapsed": true,
        "trusted": false
      },
      "cell_type": "code",
      "source": "def program_simple(percepts):\n    perceptsstring = ''.join(str(percepts))\n    print('Percepts: {}'.format(perceptsstring))\n\n    if 'Dirt' in perceptsstring:\n        simple_stats.cleanedcountadd()\n        return 'clean'\n    if 'Bump' in perceptsstring:\n        return 'turnleft'\n    simple_stats.movedforwardcountadd()\n    return 'moveforward'",
      "execution_count": 1,
      "outputs": []
    },
    {
      "metadata": {},
      "cell_type": "markdown",
      "source": "For the simple deterministic agent, I had trouble at first figuring out how to get it to do what I wanted. I couldn't figure out why it wasn't changing direction, so I had to change some of the code in the graphic room class to make it actually do what I wanted. It works fine now though so I must have done something right. \n\n### FROM"
    },
    {
      "metadata": {
        "trusted": false
      },
      "cell_type": "code",
      "source": "if action == 'turnright':\n            print('{} decided to {} at location: {}'.format(str(agent)[1:-1], action, agent.location))\n            agent.turn(Direction.R)",
      "execution_count": 2,
      "outputs": [
        {
          "ename": "NameError",
          "evalue": "name 'action' is not defined",
          "output_type": "error",
          "traceback": [
            "\u001b[1;31m---------------------------------------------------------------------------\u001b[0m",
            "\u001b[1;31mNameError\u001b[0m                                 Traceback (most recent call last)",
            "\u001b[1;32m<ipython-input-2-96e4894bcbb5>\u001b[0m in \u001b[0;36m<module>\u001b[1;34m()\u001b[0m\n\u001b[1;32m----> 1\u001b[1;33m \u001b[1;32mif\u001b[0m \u001b[0maction\u001b[0m \u001b[1;33m==\u001b[0m \u001b[1;34m'turnright'\u001b[0m\u001b[1;33m:\u001b[0m\u001b[1;33m\u001b[0m\u001b[0m\n\u001b[0m\u001b[0;32m      2\u001b[0m             \u001b[0mprint\u001b[0m\u001b[1;33m(\u001b[0m\u001b[1;34m'{} decided to {} at location: {}'\u001b[0m\u001b[1;33m.\u001b[0m\u001b[0mformat\u001b[0m\u001b[1;33m(\u001b[0m\u001b[0mstr\u001b[0m\u001b[1;33m(\u001b[0m\u001b[0magent\u001b[0m\u001b[1;33m)\u001b[0m\u001b[1;33m[\u001b[0m\u001b[1;36m1\u001b[0m\u001b[1;33m:\u001b[0m\u001b[1;33m-\u001b[0m\u001b[1;36m1\u001b[0m\u001b[1;33m]\u001b[0m\u001b[1;33m,\u001b[0m \u001b[0maction\u001b[0m\u001b[1;33m,\u001b[0m \u001b[0magent\u001b[0m\u001b[1;33m.\u001b[0m\u001b[0mlocation\u001b[0m\u001b[1;33m)\u001b[0m\u001b[1;33m)\u001b[0m\u001b[1;33m\u001b[0m\u001b[0m\n\u001b[0;32m      3\u001b[0m             \u001b[0magent\u001b[0m\u001b[1;33m.\u001b[0m\u001b[0mturn\u001b[0m\u001b[1;33m(\u001b[0m\u001b[0mDirection\u001b[0m\u001b[1;33m.\u001b[0m\u001b[0mR\u001b[0m\u001b[1;33m)\u001b[0m\u001b[1;33m\u001b[0m\u001b[0m\n",
            "\u001b[1;31mNameError\u001b[0m: name 'action' is not defined"
          ]
        }
      ]
    },
    {
      "metadata": {},
      "cell_type": "markdown",
      "source": "### TO"
    },
    {
      "metadata": {
        "collapsed": true,
        "trusted": false
      },
      "cell_type": "code",
      "source": "if action == 'turnright': # Based on the direction the vacuum is moving, turning right for it is turning left for us, i think.\n            print('{} decided to {} at location: {}'.format(str(agent)[1:-1], action, agent.location))\n            if agent.direction.direction == Direction('down').direction:\n                agent.direction = Direction('left')\n            elif agent.direction.direction == Direction('left').direction:\n                agent.direction = Direction('up')\n            elif agent.direction.direction == Direction('up').direction:\n                agent.direction = Direction('right')\n            elif agent.direction.direction == Direction('right').direction:\n                agent.direction = Direction('down')",
      "execution_count": null,
      "outputs": []
    },
    {
      "metadata": {},
      "cell_type": "markdown",
      "source": "I'm sure that there's a much better way to do this, but this works just fine. That was the biggest problem I had with this project. Once I fixed that for myself, I was able to figure out how to complete the other two fairly easily. \n\n## Random Agent"
    },
    {
      "metadata": {
        "collapsed": true,
        "trusted": false
      },
      "cell_type": "code",
      "source": "def program_random(percepts):\n    perceptsstring = ''.join(str(percepts))\n    print('Percepts: {}'.format(perceptsstring))\n    randoms = random.randrange(0, 100)\n\n    if 'Dirt' in perceptsstring:\n        random_stats.cleanedcountadd()\n        return 'clean'\n\n    if randoms < 10:        ### RANDOM ACTIONS\n        return 'turnright'  ### 10% chance to turn right\n    if randoms < 25:        ### 15% chance to turn left (has to be between 10 and 25)\n        return 'turnleft'   ### 100% to be really cool\n\n    if 'Bump' in perceptsstring:\n        return 'turnleft'\n    random_stats.movedforwardcountadd()\n    return 'moveforward'",
      "execution_count": null,
      "outputs": []
    },
    {
      "metadata": {},
      "cell_type": "markdown",
      "source": "The random agent wasn't terribly hard to make. Once I had the simple agent figured out, the only thing different with this one is that it has random components to it. This one has a 10% chance to turn right and a 15% chance to turn right. Besides that, this agent is almost identical to the simple agent.\n\n## Reflex Agent"
    },
    {
      "metadata": {
        "collapsed": true,
        "trusted": false
      },
      "cell_type": "code",
      "source": "def program_remember(percepts):\n    perceptsstring = ''.join(str(percepts))\n    print('Percepts: {}'.format(perceptsstring))\n    remembertable.show()\n\n    if 'Dirt' in perceptsstring:\n        remembertable.addsensor('Dirty')\n        remembertable.addaction('Vacuum')\n        table_stats.cleanedcountadd()\n        return 'clean'\n\n    takeaction = remembertable.analyze()    ##based on the table, decides what action should be taken.\n    if takeaction is not '':\n        return takeaction\n\n    if 'Bump' in perceptsstring:\n        remembertable.addsensor('Bump')\n        remembertable.addaction('Turn-Left')\n        return 'turnleft'\n\n    remembertable.addsensor('Clean')\n    remembertable.addaction('Forwards')\n    table_stats.movedforwardcountadd()\n    return 'moveforward'",
      "execution_count": null,
      "outputs": []
    },
    {
      "metadata": {},
      "cell_type": "markdown",
      "source": "This agent required a bit more work to get right. One of the first things I decided to do was make a new class that would keep track of the last 4 actions and sensors the vacuum took. "
    },
    {
      "metadata": {
        "collapsed": true,
        "trusted": false
      },
      "cell_type": "code",
      "source": "class VacuumTable:\n    sensor = ['z', 'z', 'z', 'z']\n    actions = ['a', 'a', 'a', 'a']\n\n    def addsensor(self, newsensor):\n        sensor = self.sensor\n        for y in range(2, -1, -1):\n            sensor[y+1] = sensor[y]\n        sensor[0] = newsensor\n\n    def addaction(self, newaction):\n        actions = self.actions\n        for y in range(2, -1, -1):\n            actions[y+1] = actions[y]\n        actions[0] = newaction\n\n    def show(self):\n        print(\"Sensor Inputs: {}\".format(self.sensor))\n        print(\"Actions Taken: {}\".format(self.actions))\n\n    def reset(self):\n        self.sensor = ['z', 'z', 'z', 'z']\n        self.actions = ['a', 'a', 'a', 'a']\n\n    def analyze(self):\n        actions = self.actions\n        sensors = self.sensor\n\n        if actions.count('Vacuum') > 2:\n            print(\"\\n\\n Wow! I'm on a roll! :D\\n\\n\")\n        if actions.count('Forwards') == 4:   # if it moves forward 4 times in a row, it'll turn left or right\n            turnaction = ['turnleft', 'turnright']\n            choice = random.choice(turnaction)\n            if choice == 'turnleft':\n                self.addaction('Turn-Left')\n            else:\n                self.addaction('Turn-Right')\n            return choice   # Turns left or right if it just moved forward 4 times\n\n        if sensors.count('Dirty') > 2:       # if it just cleaned something twice, turn right\n            if actions.count('Turn-Left') > 1:\n                self.addaction('Turn-Right')\n                return 'turnright'\n            self.addaction('Turn-Left')\n            return 'turnleft'\n\n        return ''",
      "execution_count": null,
      "outputs": []
    },
    {
      "metadata": {},
      "cell_type": "markdown",
      "source": "This class lets you keep track of the sensors and actions. When you add more elements into either list, it just shifts everything to the right and overwrites the last one. It also lets the agent analyze whats in each table, so it can decide what actions should be taken, then returns with said action. If nothing works, then it just replies with nothing so the agent knows to continue with its default actions."
    },
    {
      "metadata": {},
      "cell_type": "markdown",
      "source": "# Testing Design and Expected Results:\n\nThe way I decided to keep track of the stats for every agent across 200 runs with 100 steps for each run was to make a new class to record everything."
    },
    {
      "metadata": {
        "collapsed": true,
        "trusted": false
      },
      "cell_type": "code",
      "source": "class KeepTrackOfAllMyThings:\n    runnum = 0\n    runs = 500\n    dirt_count = [0]*runs\n    cleaned_count = [0]*runs\n    moved_forward_count = [0]*runs\n\n    def dirtcountadd(self, amount):\n        self.dirt_count[self.runnum-1] = amount\n\n    def cleanedcountadd(self):\n        self.cleaned_count[self.runnum-1] += 1\n\n    def movedforwardcountadd(self):\n        self.moved_forward_count[self.runnum-1] += 1\n\n    def average(self):\n        length = len(self.dirt_count)\n        dirts = 0\n        cleans = 0\n        moves = 0\n        for x in range(0, length):\n            dirts += self.dirt_count[x]\n            cleans += self.cleaned_count[x]\n            moves += self.moved_forward_count[x]\n        return dirts, cleans, moves\n\n    def show(self):\n        print('\\n\\n'\n              '////////////////////////////\\n'\n              '//// Agent Stats Round {} ///\\n'\n              '////////////////////////////\\n'\n              '/// Spaces Dirty:   {} ///\\n'\n              '/// Spaces Cleaned: {} ///\\n'\n              '/// Spaces Moved:   {} ///\\n'\n              '////////////////////////////\\n\\n'\n              ''.format(self.runnum, self.dirt_count[self.runnum-1], self.cleaned_count[self.runnum-1], self.moved_forward_count[self.runnum-1]))\n\n\n\nsimple_stats = KeepTrackOfAllMyThings()\nrandom_stats = KeepTrackOfAllMyThings()   ###To keep track of all the stats for each agent\ntable_stats = KeepTrackOfAllMyThings()",
      "execution_count": null,
      "outputs": []
    },
    {
      "metadata": {},
      "cell_type": "markdown",
      "source": "The amount of runs is changed depending on what is given, I just set the default at 500. From there it makes 3 lists of size = number of runs, to keep track of:\n\n- The amount of dirt per run\n\n- The amount of time the vacuum cleaned a dirty square per round\n\n- The amount of times the vacuum moved forward per round\n\nIt will also print out the totals and prints out the data measured for each round. \n\nPersonally, I hope the table driven agent performs the best out of the three, just because I like it the most. I do expect it to do the best, but I can also see the random agent doing fairly well. "
    },
    {
      "metadata": {},
      "cell_type": "markdown",
      "source": "\n# Actual Results:\n\nBelow you will find the results for all nine runs. \n"
    },
    {
      "metadata": {},
      "cell_type": "markdown",
      "source": "### SIMPLE AGENT"
    },
    {
      "metadata": {},
      "cell_type": "markdown",
      "source": "<img src= \"img/SIMPLE VAC.jpg\">"
    },
    {
      "metadata": {},
      "cell_type": "markdown",
      "source": "### RANDOM AGENT"
    },
    {
      "metadata": {},
      "cell_type": "markdown",
      "source": "<img src= \"img/RANDOM VAC.jpg\">"
    },
    {
      "metadata": {},
      "cell_type": "markdown",
      "source": "### REFLEX AGENT"
    },
    {
      "metadata": {},
      "cell_type": "markdown",
      "source": "<img src= \"img/TABLE VAC.jpg\">"
    },
    {
      "metadata": {},
      "cell_type": "markdown",
      "source": "If the images above don't show up for some reason, the results are as follows:\n\n- Simple Agent: --(39.71% for 10% dirt)-- --(39.83% for 20% dirt)-- --(39.72% for 30% dirt)--\n\n- Random Agent: --(54.40% for 10% dirt)-- --(52.38% for 20% dirt)-- --(50.67% for 30% dirt)--\n\n- Table Agent: --(60.96% for 10% dirt)-- --(58.79% for 20% dirt)-- --(59.33% for 30% dirt)--\n"
    },
    {
      "metadata": {},
      "cell_type": "markdown",
      "source": "# Discussion Of Results:\n\nThe Table driven agent comes in first with a general performance of 59.69% across all 600 runs. The random agent comes in second with 52.48%, and the simple agent comes in third with 39.75. It's not really surprising that this is the order that they came out in, as the simple agent just moves in a direction until it hits a wall and then just circles the border until the program stops. What was a little surprising is how close the random and table driven agent's results are to each other. I should've expected them to be close seeing as how, while the random agent moves around randomly, the table driven agent only moves around slightly less randomly so it kind of makes sense why they are so similar. Overall, I'm happy the table driven agent performed the best, it's my favorite one.  "
    },
    {
      "metadata": {},
      "cell_type": "markdown",
      "source": "# Conclusion:\n\nThe table driven agent is the most effcient one out of the three, but the random agent is not very far behind.\n\n\n# Link To Azure Notebook:\n\n### https://notebooks.azure.com/randja/projects/vacuum-agents"
    },
    {
      "metadata": {},
      "cell_type": "markdown",
      "source": "\n# Code below runs everything:"
    },
    {
      "metadata": {
        "trusted": true
      },
      "cell_type": "code",
      "source": "###cd pycharmprojects/csc374 && call activate root && jupyter notebook\n###cd Dropbox/CSC374 && call activate root && jupyter notebook\n### This is just for me, don't look, shhh\nfrom random import randint\nfrom start import *\nfrom KeepTrackOfAllMyThings import *\nfrom start import remembertable\n\nruntimes = 1\niterations = 15   ## Changed these values for the notebook, normally they're 200 and 150 respectively\ndirtchance = int(input(\"Probability for dirt: \"))   #######\n\nKeepTrackOfAllMyThings.runs = runtimes\n\nagentchoice = input(\"Enter Agent Name(Simple, Random, Table): \")    ###### simple_stats, random_stats, table_stats\nagentstats = ''\nprogram = ''\nprogname = ''\n\nif agentchoice.lower() == 'simple':   ####### program_simple, program_random, program_remember\n    agentstats = simple_stats\n    program = program_simple\n    progname = 'program_simple'  #####\nelif agentchoice.lower() == 'random':\n    agentstats = random_stats\n    program = program_random\n    progname = 'program_random'\nelif agentchoice.lower() == 'table':\n    agentstats = table_stats\n    program = program_remember\n    progname = 'program_remember'\nelse:\n    print(\"-- Error: Agent Not Recognized --\")\n    quit()\n\n\ndef runitall():\n    room = GraphicRoom(12, 12, color={'Vacuum': (200, 0, 0), 'Dirt': (0, 200, 200), 'Wall': (0, 0, 0), 'Bump': (200, 0, 200)})\n    '''the wall is in 0 and location 11'''\n\n    location = [randint(1, 10), randint(1, 10)]\n    vac = Vacuum(program)\n    room.add_thing(vac, location)\n    remembertable.reset()\n\n    def dirtyitup(totaldirt):\n        row = 0\n        col = 1\n\n        for x in range(100):\n            row += 1\n\n            if row > 10:\n                row = 1\n                col += 1\n            if random.randrange(0, 100) < dirtchance:\n                room.add_thing(Dirt(), [row, col])\n                totaldirt += 1\n        return totaldirt\n\n    totaldirt = dirtyitup(0)  # run with 10% chance of dirt\n    agentstats.dirtcountadd(totaldirt)\n    print(\":::::::::::::::::::::::::::::::::::::::::::::::::::::::\\n\"\n          \":::::With a probability of {}%, {} blocks are dirty:::::\\n\"\n          \":::::::::::::::::::::::::::::::::::::::::::::::::::::::\".format(dirtchance, totaldirt))\n\n    room.reveal()\n    room.run(iterations, 0) #0 Speeds it up so fast it's so nice. Just take it out if you want it to go slow\n\n\nfor x in range(0, runtimes):\n\n    KeepTrackOfAllMyThings.runnum += 1\n    runitall()\n    agentstats.show()\n\n        # Ignore all these, they look ugly\nfinalaverages = agentstats.totals()        ###################Time to print out all the results we need\nprint(\"\\n\\n::::::::::::::::::::::::::::::::::::::\\n\"\n      \":::::::::::::: RESULTS :::::::::::::::\\n\"\n      \"::::::::::::::::::::::::::::::::::::::\\n\"\n      \":::: Run  {} times :::::::::::::::::::\\n\"\n      \":::: With {} iterations each run :::::\\n\"\n      \":::: And {}% probability for Dirt ::::\\n\"\n      \"::::::::::::::::::::::::::::::::::::::\\n\"\n      \"\".format(runtimes, iterations, dirtchance))\nprint(\":::::::::::::::::::::::::::::::::\\n\"\n      \":::::::::::::  Totals  ::::::::::\\n\"\n      \"::: Total Dirty Spaces:   {} ::: \\n\"\n      \"::: Total Spaces Cleaned: {} :::\\n\"\n      \"::: Total Spaces Moved    {} :::\\n\"\n      \":::::::::::::::::::::::::::::::::\\n\"\n      \"\".format(finalaverages[0], finalaverages[1], finalaverages[2]))\nprint(\"/////////////////////////////////////\\n\"\n      \"////////////  Averages  /////////////\\n\"\n      \"/// Average Dirty Spaces:   {} /// \\n\"\n      \"/// Average Spaces Cleaned: {} ///\\n\"\n      \"/// Average Spaces Moved    {} ///\\n\"\n      \"/////////////////////////////////////\\n\"\n      \"\".format((finalaverages[0]/runtimes), (finalaverages[1]/runtimes), (finalaverages[2]/runtimes)))\nprint(\"\\n!!!!!!!!!!!!!!!!!!!!!!!!!!!!!!!!!!!!!!!!!!!!!!!!!!!!\\n\"\n      \"!!!!!!! {}'s Average Performance !!!!!\\n\"\n      \"!!!!!!!!!!! Cleaned Spaces / Total Dirt !!!!!!!!!!!!\\n\"\n      \"!!!!!!!!!!!!!!!!!!!!!!! EQUALS !!!!!!!!!!!!!!!!!!!!!\\n\"\n      \"!!!!!!!!!!!!!!!!!!!!!!! {:.2f}% !!!!!!!!!!!!!!!!!!!!!\\n\"\n      \"!!!!!!!!!!!!!!!!!!!!!!!!!!!!!!!!!!!!!!!!!!!!!!!!!!!!\"\n      \"\".format(progname, (finalaverages[1]/finalaverages[0])*100))\n\n# THE RESULTS GET WONKY IN THE NOTEBOOK,\n# IT KEEPS TRACK OF THE PREVIOUS RUNS STILL\n\n\n",
      "execution_count": null,
      "outputs": []
    },
    {
      "metadata": {
        "trusted": true
      },
      "cell_type": "code",
      "source": "",
      "execution_count": null,
      "outputs": []
    }
  ],
  "metadata": {
    "kernelspec": {
      "name": "python3",
      "display_name": "Python 3",
      "language": "python"
    },
    "language_info": {
      "mimetype": "text/x-python",
      "nbconvert_exporter": "python",
      "name": "python",
      "file_extension": ".py",
      "version": "3.5.4",
      "pygments_lexer": "ipython3",
      "codemirror_mode": {
        "version": 3,
        "name": "ipython"
      }
    }
  },
  "nbformat": 4,
  "nbformat_minor": 2
}