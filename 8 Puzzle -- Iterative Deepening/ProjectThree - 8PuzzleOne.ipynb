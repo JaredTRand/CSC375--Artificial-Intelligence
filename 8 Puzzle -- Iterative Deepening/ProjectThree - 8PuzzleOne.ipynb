{
  "cells": [
    {
      "metadata": {
        "collapsed": true
      },
      "cell_type": "markdown",
      "source": "# Project 2: 8 Puzzle Solver Part One -- Iterative Deepening\n## Author: Jared Rand"
    },
    {
      "metadata": {},
      "cell_type": "markdown",
      "source": "### Purpose: \nWrite a search algorithm that that finds a solution for an 8 puzzle (A square puzzle with three rows of smaller squares, two rows with 3 and one with 2 and an empty space. The purpose is to put the squares in the correct order only by sliding the squares next to the gap.)\n\n<img src=\"img/sol05.gif\">\n\n# Introduction:\nIn this project we were meant to find a solution to a given 8 puzzle using iterative deepening. This project is very similar to my Missionaries and Cannibals solution, as they both use essentially the same tree file. \n\n# Discussion Of Solution:\nThis project wasn't a huge amount of work, as I was able to take my solution to the previous project and just apply it to this one. It's almost the same kind of solution too, I have a tree that makes a node for every possible legal move. \n\nThe class for the nodes is a bit more extensive than the one I made for the previous projects."
    },
    {
      "metadata": {
        "trusted": true
      },
      "cell_type": "code",
      "source": "class Node:\n    def __init__(self, name, data):\n        self.name = name\n        self.children = []\n        self.parent = []\n        self.data = data\n        self.end = False\n\n        self.position = self.getPos()  # defaults\n        self.left = self.getLeft()\n        self.right = self.getRight()\n        self.up = self.getUp()\n        self.down = self.getDown()\n\n    def new_child(self, name):\n        self.children.append(name)\n\n    def getPos(self):\n        aa = str(np.where(self.data == 0))\n        res = []\n        i = 0\n        for each in aa:\n            if each == '[':\n                res.append(int(aa[i + 1]))\n            i += 1\n        return res\n\n    def swap(self, element):\n        mypos = self.getPos()\n        aa = str(np.where(self.data == element))\n        res = []\n        i = 0\n        for each in aa:\n            if each == '[':\n                res.append(int(aa[i + 1]))\n            i += 1\n        self.data[mypos[0]][mypos[1]] = element\n        self.data[res[0]][res[1]] = 0\n\n    def moveUp(self):\n        self.swap(self.up)\n        self.refreshNeighbors()\n\n    def moveDown(self):\n        self.swap(self.down)\n        self.refreshNeighbors()\n\n    def moveLeft(self):\n        self.swap(self.left)\n        self.refreshNeighbors()\n\n    def moveRight(self):\n        self.swap(self.right)\n        self.refreshNeighbors()\n\n    def getUp(self):\n        a = self.position\n        return self.data[a[0] - 1][a[1]]\n\n    def getDown(self):\n        a = self.position\n        return self.data[a[0] + 1][a[1]]\n\n    def getLeft(self):\n        a = self.position\n        return self.data[a[0]][a[1] - 1]\n\n    def getRight(self):\n        a = self.position\n        return self.data[a[0]][a[1] + 1]\n\n    def refreshNeighbors(self):\n        self.position = self.getPos()\n        self.up = self.getUp()\n        self.down = self.getDown()\n        self.left = self.getLeft()\n        self.right = self.getRight()\n",
      "execution_count": null,
      "outputs": []
    },
    {
      "metadata": {
        "trusted": true
      },
      "cell_type": "markdown",
      "source": "I do all of the swapping and such inside of the class itself, which makes the tree class look slightly neater than it did before. I also have each node keep track of:\n\n1. The entire board\n2. Its position on the board.\n3. Its neighboring numbers.\n4. Its parents and its children\n\nI'm hoping this isn't what makes it way more sluggish than the previous project, but I will discuss that later. \n\nTo make sure it doesn't make any bad or unnecessary moves, I have 2 ways of checking. The first is that the board is surrounded by -1s, so if the blank space tries to swap with anything outside the bounds, it ends that node. Like this:\n\n-1,-1,-1,-1,-1\n\n-1, 1, 2, 3, -1\n\n-1, 3, 4, 5, -1\n\n-1, 6, 7, 8, -1\n\n-1,-1,-1,-1,-1\n\nThe second check is here:\n"
    },
    {
      "metadata": {
        "trusted": true
      },
      "cell_type": "code",
      "source": " if noodle.name != \"ENDED\":\n            parr = parent\n            while parr.name != \"0-0(ROOT)\":\n                if np.array_equal(noodle.data, parr.data):\n                    noodle.end = True\n                    noodle.name = \"ENDED\"\n                    self.n -= 1\n                parr = parr.parent\n            parent.new_child(noodle)  # Adds new node as child to its parent node\n            noodle.parent = parent  # Adds parent to new node",
      "execution_count": null,
      "outputs": []
    },
    {
      "metadata": {},
      "cell_type": "markdown",
      "source": "This runs through each nodes parents all the way back to the root node, and if it's at the same step as one of its parents then it ends the node.\n\nThis is also likely a spot where it slows the program down, as it keeps having to go through all the parent's data for each node. If I have time to improve on this, I might try using a dictionary to hold the previous values, but delete all the previous nodes. I'm not sure if it would work but it's just a thought. \n\n\n# Testing Design and Expected Results\n\nFor the output of my program, when it gets to around 15 layers deep, it starts to really slow down. It has to go through each node and make around 4 more, so the number of nodes is almost quadrupling every level. The number of nodes gets super high and slows the program down significantly. If it takes less than 10 moves to solve the puzzle, then it should find it within a few seconds. \n\nI think one of the main reasons why this program creates so many nodes is because, unlike the missionaries and cannibals, it has so many moves it can make that. Even if it the moves are technically legal, it might not even be in the correct direction, so it ends up creating a lot of unnecessary paths that bog up the program. "
    },
    {
      "metadata": {},
      "cell_type": "markdown",
      "source": "# Actual Results:\n\nThe results should look something like this:\n\n<img src=\"img/Capture.jpg\">\n\nThe above shows the all the moves that are needed to make in order to solve the puzzle. This specific one takes 6 moves. "
    },
    {
      "metadata": {},
      "cell_type": "markdown",
      "source": "# Discussion Of Results:\n\nOverall this program could run much better, but I'm happy that it works in general. I'm sure it could solve the boards that take a higher number of moves if I let it take the time to do so, but I don't want to set my computer on fire. "
    },
    {
      "metadata": {},
      "cell_type": "markdown",
      "source": "# Link To Azure Notebook:\n\nhttps://notebooks.azure.com/randja/projects/8-puzzle-part-one"
    },
    {
      "metadata": {},
      "cell_type": "markdown",
      "source": "# Code Below Runs Everything:\n\n## NOTE: I made a \"Demo\" file that's essentially the same as the regular file, except it only goes down 10 layers (So it doesn't bog down the jupyter notebook). If takes over 10 moves to solve the 8 puzzle, it starts a new one until it finds one with less than 10 moves. This is why the output might look a little strange.\n\n## Jupyter Notebooks makes it act weird if you try to run it multiple times, so restart the kernel or download the files if you want to see it run again. \n"
    },
    {
      "metadata": {
        "trusted": true
      },
      "cell_type": "code",
      "source": "from myTreeDEMO import *\nimport numpy as np\nimport random\n\n\ndef apply_action(board, action):\n\n    deltas = np.array([[-1, 0, 1, 0], [0, 1, 0, -1]])\n    action_2_index = {'up': 0, 'right': 1, 'down': 2, 'left': 3}\n    posx, posy = np.where(np.isin(board, [0]))\n    (x, y) = (posx[0], posy[0])\n    (new_x, new_y) = (x + deltas[0, action_2_index[action]], y + deltas[1, action_2_index[action]])\n\n    try:\n        el = board[new_x, new_y]\n        board[x, y] = el\n        board[new_x, new_y] = 0\n       # print(new_x, new_y)\n       # print(board)\n    except IndexError:\n        pass\n    return board\n\n\ndef mess_up(board, actions, moves):\n\n    for iter in range(0, moves):\n        board = apply_action(board, actions[random.randint(0, 3)])\n    pass\n\n### Impossible Board Checking ###\n### Method Found Here: ###\n### https://learnbycoding.wordpress.com/2014/12/25/how-to-check-if-an-instance-of-8-puzzle-is-solvable/ ###\ndef getCount(arr):\n    invcount = 0\n    i = 0\n    while i < 9-1:\n        j = i+1\n        while j < 9:\n            if arr[j] and arr[i] and arr[i] > arr[j]:\n                invcount += 1\n            j += 1\n        i += 1\n    return invcount\n\n\ndef makeFlatter(puz):\n    bbb = []\n    j = 0\n    k = 0\n    for i in range(9):\n        bbb.append(puz[j][k])\n        k += 1\n        if k > 2:\n            k = 0\n            j += 1\n    return bbb\n\n\ndef checkSolvable(puzzle, goal):\n    flatpuz = makeFlatter(puzzle)\n    invCount = getCount(flatpuz)\n    if invCount % 2 == 0 or not np.array_equal(puzzle, goal):\n        return True\n    else:\n        actions = [\"up\", \"right\", \"down\", \"left\"]\n        mess_up(puzzle, actions, 12)\n        return checkSolvable(puzzle)\n\n\ndef do():\n    goal = np.array([[1, 2, 3], [4, 5, 6], [7, 8, 0]])\n    messupboard = np.array([[1, 2, 3], [4, 5, 6], [7, 8, 0]])\n    board = np.array([[-1, -1, -1, -1, -1], [-1, 1, 2, 3, -1], [-1, 4, 5, 6, -1], [-1, 7, 8, 0, -1], [-1, -1, -1, -1, -1]])\n    actions = [\"up\", \"right\", \"down\", \"left\"]\n    mess_up(messupboard, actions, 12)\n    checkSolvable(messupboard, goal)\n    for i in range(3):\n        board[1][i+1] = messupboard[0][i]\n        board[2][i+1] = messupboard[1][i]\n        board[3][i+1] = messupboard[2][i]\n\n    print(\"START BOARD:\\n{}\\n\\n\".format(messupboard))\n    goal = np.array([[-1, -1, -1, -1, -1], [-1, 1, 2, 3, -1], [-1, 4, 5, 6, -1], [-1, 7, 8, 0, -1], [-1, -1, -1, -1, -1]])\n    newtree = MyTree(board, goal, possibles=actions)\n    return find_solution(newtree, goal)\n\n\ndef main():\n    x = do()\n    while x == 0:\n        do()\n\n\nif __name__ == \"__main__\":\n    main()\n",
      "execution_count": null,
      "outputs": [
        {
          "output_type": "stream",
          "text": "START BOARD:\n[[1 2 3]\n [0 6 4]\n [7 5 8]]\n\n\nGENERATED LEVEL 1 (3 NODES)\nGENERATED LEVEL 2 (8 NODES)\nGENERATED LEVEL 3 (16 NODES)\nGENERATED LEVEL 4 (24 NODES)\nGENERATED LEVEL 5 (48 NODES)\nGENERATED LEVEL 6 (72 NODES)\nGENERATED LEVEL 7 (144 NODES)\nGENERATED LEVEL 8 (216 NODES)\nGENERATED LEVEL 9 (432 NODES)\nGENERATED LEVEL 10 (648 NODES)\nSTART BOARD:\n[[1 2 3]\n [4 8 0]\n [7 6 5]]\n\n\nGENERATED LEVEL 1 (6 NODES)\nGENERATED LEVEL 2 (16 NODES)\nGENERATED LEVEL 3 (32 NODES)\nGENERATED LEVEL 4 (48 NODES)\nGENERATED LEVEL 5 (96 NODES)\n\n:::::::::::::::::::::::::::::::::\n::: SOLUTION FOUND IN 0.24s :::::\n::: NODE 5-75    ::::::::::::::::\n:::::::::::::::::::::::::::::::::\n\nPATH:\n\n0-0(ROOT)\n///////////\n// 1|2|3 //\n// 4|8|0 //\n// 7|6|5 //\n///////////\n\n1-4\n///////////\n// 1|2|3 //\n// 4|8|5 //\n// 7|6|0 //\n///////////\n\n2-11\n///////////\n// 1|2|3 //\n// 4|8|5 //\n// 7|0|6 //\n///////////\n\n3-22\n///////////\n// 1|2|3 //\n// 4|0|5 //\n// 7|8|6 //\n///////////\n\n4-37\n///////////\n// 1|2|3 //\n// 4|5|0 //\n// 7|8|6 //\n///////////\n\n5-75\n///////////\n// 1|2|3 //\n// 4|5|6 //\n// 7|8|0 //\n///////////\n",
          "name": "stdout"
        }
      ]
    },
    {
      "metadata": {
        "trusted": true
      },
      "cell_type": "code",
      "source": "",
      "execution_count": null,
      "outputs": []
    }
  ],
  "metadata": {
    "kernelspec": {
      "name": "python36",
      "display_name": "Python 3.6",
      "language": "python"
    },
    "language_info": {
      "mimetype": "text/x-python",
      "nbconvert_exporter": "python",
      "name": "python",
      "pygments_lexer": "ipython3",
      "version": "3.6.6",
      "file_extension": ".py",
      "codemirror_mode": {
        "version": 3,
        "name": "ipython"
      }
    }
  },
  "nbformat": 4,
  "nbformat_minor": 2
}