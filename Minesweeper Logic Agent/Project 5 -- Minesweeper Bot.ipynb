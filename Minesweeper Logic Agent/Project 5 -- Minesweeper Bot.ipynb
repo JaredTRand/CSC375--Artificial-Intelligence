{
  "cells": [
    {
      "metadata": {
        "collapsed": true
      },
      "cell_type": "markdown",
      "source": "# Project 5: Minesweeper Logic Agent\n## Jared Rand\n\n### Purpose: To create a bot that can play (and hopefully solve) Minesweeper. \n\n\n# - - - - - - - - - - - - - - - - - - - - - - - - - - - - - - - - - - - - - - - - - - - - - - - - - - - - - - - - - - - - - - - - - - - - - - - - - - - - - - - - - - - - - - - - - - - - - - - -\n# QUICK NOTE: ONLY WORKS WITH MINESWEEPER.ONLINE AS OF RIGHT NOW. I WANT TO ADD OTHER SITES LATER.\n# ALSO: HERE'S A VIDEO OF MY BOT SOLVING THE 9x9: https://www.youtube.com/watch?v=eHvEj_88IqE&feature=youtu.be\n### I only just realized there's the same clip in there twice, but there's still 4 others : )\n# - - - - - - - - - - - - - - - - - - - - - - - - - - - - - - - - - - - - - - - - - - - - - - - - - - - - - - - - - - - - - - - - - - - - - - - - - - - - - - - - - - - - - - - - - - - - - - - -"
    },
    {
      "metadata": {},
      "cell_type": "markdown",
      "source": "# Introduction: \n \n In this project we were meant to create a bot that is capable of playing minesweeper. \n Just FYI, this gif is not my bot\n \n <img src=\"img/bettermine.gif\">\n \n Minesweeper is a game that starts with a n*n square board of squares. Each square may contain nothing, a mine, or a number that indicates the number of mines next to that square. You need to reveal all the squares that aren't mines, and flag all the ones that are. It is a pretty straightforward game, but it is difficult if you don't know what's going on. I still have yet to win a game of minesweeper by myself. "
    },
    {
      "metadata": {},
      "cell_type": "markdown",
      "source": "# Discussion Of Solution\n\nThis project took me a pretty good deal of time, so I'm glad that I got started on it early. For a project that took so long, I'm glad it was at least an entertaining one. \n\nI started out by making sure that the bot could find the board, and that it could register when the board changed after each click. "
    },
    {
      "metadata": {
        "trusted": true
      },
      "cell_type": "code",
      "source": "def get_blanks(smile, blank):\n    isonscreen = None\n    i = 0\n    while isonscreen == None:   # makes sure the board is on the main screen\n        isonscreen = pyautogui.locateOnScreen(smile, grayscale=False, confidence=.5)\n        i += 1\n        if i > 1:\n            print(\"\\nBoard Not Found -- Please Bring Into View\")\n        if i > 10:\n            print(\"\\nCould Not Find Board -- Aborting...\")\n            sleep(3)\n            quit()\n        sleep(3)\n        \n    Blanks = pyautogui.locateAllOnScreen(blank, grayscale=True)\n    squares = list(Blanks)\n    return squares\n",
      "execution_count": 4,
      "outputs": []
    },
    {
      "metadata": {},
      "cell_type": "markdown",
      "source": "This is the method that finds the board. It's a slightly modified version of the code given to us. I made 2 changes, first being that it searches the screen 10 times if it can't find the board (giving me time to bring the board on screen if I forgot), and the second is removing the search range, so it can find a minesweeper board of any size (so long as it fits on your screen).\n"
    },
    {
      "metadata": {
        "trusted": true
      },
      "cell_type": "code",
      "source": "class Square:\n\n    def __init__(self, left, top, width, height, name='square'):\n        self.name = name\n        self.left = left\n        self.top = top\n        self.width = width\n        self.height = height\n        self.type = 'blank'  # blank, empty, bomb?, one, two, three, four, five?\n        self.likelihood = 0\n        self.flagged = False\n\n\n        self.surroundings = [[None, None, None, None, None, None, None, None]]\n        self.added = []\n                        # Topleft, Top, Topright, Left, Right, Bottomleft, Bottom, Bottomright\n                        #    0      1       2       3     4        5          6         7\n",
      "execution_count": 5,
      "outputs": []
    },
    {
      "metadata": {},
      "cell_type": "markdown",
      "source": "This is the class I made for each of the squares. It keeps track of all the important bits that I needed. Especially the type of square it was, the likelihood it was a bomb, and its surroundings. \n\n\nThe way that I updated the board was, frankly, a bit of a mess. If I find the time I'll try to clean it up a little bit and hopefully make it run faster, and easier to read. Essentially what I did was create a dict of all the squares, the key being the left coordinate combined with the top coordinate (100 + 50 = 10050), and it returns the class at that position. That way when I searched for each type of square, I could easily figure out what square it was referring to. \n\n"
    },
    {
      "metadata": {
        "trusted": true
      },
      "cell_type": "code",
      "source": "    for i in range(len(ones)):\n        s = str(ones[i].left-1) + str(ones[i].top-1)\n        holder[s].type = 'one'\n        holder[s].likelihood = -1\n\n        count = 0\n        keepaneyeon = []\n        for j in range(len(holder[s].surroundings[0])):\n            if holder[s].surroundings[0][j] != None and holder[s].surroundings[0][j].type == 'blank':\n                count += 1\n                keepaneyeon.append(holder[s].surroundings[0][j])\n            if holder[s].surroundings[0][j] != None and holder[s].surroundings[0][j].type == 'flagged':\n                count += 1\n                keepaneyeon.append(holder[s].surroundings[0][j])\n        if len(keepaneyeon) == 1:\n            for j in range(len(keepaneyeon)):\n                if keepaneyeon[j].flagged != True:\n                    keepaneyeon[j].flagged = True\n                    pyautogui.rightClick(x=keepaneyeon[j].left + 10, y=keepaneyeon[j].top + 10)\n                    for k in range(len(keepaneyeon[j].surroundings[0])):\n                        if keepaneyeon[j].surroundings[0][k] is None:\n                            continue\n                        if keepaneyeon[j].surroundings[0][k].type == 'blank' or keepaneyeon[j].surroundings[0][k].type == 'empty':\n                            continue\n                        elif keepaneyeon[j].surroundings[0][k].type == 'one' or \\\n                                keepaneyeon[j].surroundings[0][k].type == 'two' or \\\n                                keepaneyeon[j].surroundings[0][k].type == 'three' or \\\n                                keepaneyeon[j].surroundings[0][k].type == 'four':\n                            pyautogui.click(x=keepaneyeon[j].surroundings[0][k].left + 10, y=keepaneyeon[j].surroundings[0][k].top + 10)",
      "execution_count": 6,
      "outputs": [
        {
          "output_type": "error",
          "ename": "NameError",
          "evalue": "name 'ones' is not defined",
          "traceback": [
            "\u001b[0;31m---------------------------------------------------------------------------\u001b[0m",
            "\u001b[0;31mNameError\u001b[0m                                 Traceback (most recent call last)",
            "\u001b[0;32m<ipython-input-6-4c341b92e07f>\u001b[0m in \u001b[0;36m<module>\u001b[0;34m\u001b[0m\n\u001b[0;32m----> 1\u001b[0;31m \u001b[0;32mfor\u001b[0m \u001b[0mi\u001b[0m \u001b[0;32min\u001b[0m \u001b[0mrange\u001b[0m\u001b[0;34m(\u001b[0m\u001b[0mlen\u001b[0m\u001b[0;34m(\u001b[0m\u001b[0mones\u001b[0m\u001b[0;34m)\u001b[0m\u001b[0;34m)\u001b[0m\u001b[0;34m:\u001b[0m\u001b[0;34m\u001b[0m\u001b[0m\n\u001b[0m\u001b[1;32m      2\u001b[0m     \u001b[0ms\u001b[0m \u001b[0;34m=\u001b[0m \u001b[0mstr\u001b[0m\u001b[0;34m(\u001b[0m\u001b[0mones\u001b[0m\u001b[0;34m[\u001b[0m\u001b[0mi\u001b[0m\u001b[0;34m]\u001b[0m\u001b[0;34m.\u001b[0m\u001b[0mleft\u001b[0m\u001b[0;34m-\u001b[0m\u001b[0;36m1\u001b[0m\u001b[0;34m)\u001b[0m \u001b[0;34m+\u001b[0m \u001b[0mstr\u001b[0m\u001b[0;34m(\u001b[0m\u001b[0mones\u001b[0m\u001b[0;34m[\u001b[0m\u001b[0mi\u001b[0m\u001b[0;34m]\u001b[0m\u001b[0;34m.\u001b[0m\u001b[0mtop\u001b[0m\u001b[0;34m-\u001b[0m\u001b[0;36m1\u001b[0m\u001b[0;34m)\u001b[0m\u001b[0;34m\u001b[0m\u001b[0m\n\u001b[1;32m      3\u001b[0m     \u001b[0mholder\u001b[0m\u001b[0;34m[\u001b[0m\u001b[0ms\u001b[0m\u001b[0;34m]\u001b[0m\u001b[0;34m.\u001b[0m\u001b[0mtype\u001b[0m \u001b[0;34m=\u001b[0m \u001b[0;34m'one'\u001b[0m\u001b[0;34m\u001b[0m\u001b[0m\n\u001b[1;32m      4\u001b[0m     \u001b[0mholder\u001b[0m\u001b[0;34m[\u001b[0m\u001b[0ms\u001b[0m\u001b[0;34m]\u001b[0m\u001b[0;34m.\u001b[0m\u001b[0mlikelihood\u001b[0m \u001b[0;34m=\u001b[0m \u001b[0;34m-\u001b[0m\u001b[0;36m1\u001b[0m\u001b[0;34m\u001b[0m\u001b[0m\n\u001b[1;32m      5\u001b[0m \u001b[0;34m\u001b[0m\u001b[0m\n",
            "\u001b[0;31mNameError\u001b[0m: name 'ones' is not defined"
          ]
        }
      ]
    },
    {
      "metadata": {},
      "cell_type": "markdown",
      "source": "This is part does a couple of things. It keeps track of the number of blank or flagged squares next to it (A square is 2 with only two blank squares, then both of those blanks are mines.), it will flag blank squares, and it will click all the number squares afterwards(because this reveals more blank squares)\n\nThis part has 2 main drawbacks, \n    1. It looks ugly and it's hard to read. There's so much going on in there that I get lost half the time while reading it.\n    2. It's what bogs the rest of the program down. I know that there is an easier and quicker way to do this, which I'll talk about later, but this is the way I did it for now. The biggest problem is that I need to do this for each number tile, and each loop has 3 other loops inside it (Most of them go for less than 8 iterations, but still, it adds up), so that really adds on the runtime.    \n    \nOne last thing, it decides what to click in 2 different ways. The first is that it flags definite mines and clicks around it, revealing more squares. The second way is that it calculates what it belives to be the least risky square to click, which I could do a better job at calculating, because it still hits mines sometimes. I also read online that the best first move to make is to click the four corners of the board, but I'm beginning to believe that's not true, because it still manages to hit a large number of mines in the corners. "
    },
    {
      "metadata": {},
      "cell_type": "markdown",
      "source": "# Testing Design and Expected Results\n\nI'm actually somewhat pleased with how this bot turned out. It's not the prettiest thing, but it can solve a 9x9 pretty okay! Luckily the minesweeper website I used has a timer built in, so I didn't need to time it myself. \n\nI based how it worked in 4 categories:\n    1. Found The Solution\n    2. Came Close (clicked on the final mine, <1 remaining)\n    3. Clicked On A Bomb In The Corner (First 4 Moves)\n    4. Just No Where Close (Lost)\n    \n"
    },
    {
      "metadata": {},
      "cell_type": "markdown",
      "source": "# Actual Results:"
    },
    {
      "metadata": {},
      "cell_type": "markdown",
      "source": "Out of 15 runs for each, these are the results I got:\n\n----When clicking all 1 corners as first move \n\n    1. 5 Times\n    2. 0 Times\n    3. 0 Times\n    4. 10 Times\n    \n----When clicking all 2 corners as first move \n\n    1. 6 Times\n    2. 0 Times\n    3. 1 Time\n    4. 8 Times\n    \n----When clicking all 3 corners as first move \n\n    1. 3 Times\n    2. 0 Times\n    3. 6 Times\n    4. 6 Times\n\n----When clicking all 4 corners as first move \n\n    1. 5 Times\n    2. 3 Times\n    3. 6 Times\n    4. 1 Time\n    \n----(I also read online about another starting moveset, where you click in a corner, the middle of one of the edges, and somewhere in the center of the board. These are the results from clicking the left corner, middle of the top edge, and right in the middle of the board.)\n    \n    1. 6 Times\n    2. 0 Times\n    3. 0 Times\n    4. 9 Time\n    \n\n# Discussion Of Results:\n\nI should probably run these more times just to be sure, but it seems like it finds the solution best when it only clicks the top 2 corners. It's not a significant difference, but it is a difference. I think this method would work best if it kept track of how many were revealed by a corner click. Like, if it only revealed a single number, then it would click another corner, but if it revealed a lot of the board, then maybe it just wouldn't click the corners. This or the 5th solution where you click in the middle would be the better solutions.\n\nI'm happy it was able to solve the 9x9, but the amount of times it lost by clicking on a mine in the corner was too many, and that's a part that I need to fix. Along with how it determines which is the safest square to click on, because that's most of the reason why it was able to come close 3 times, but lose right at the end, because it misjudged which square was the mine. Overall though, not the worst bot I've ever made though! I'll try to make it more efficient when I have the time, and when I do I'll either update it here or put it on my github (Or Both)(https://github.com/NotEnoughMilk)"
    },
    {
      "metadata": {},
      "cell_type": "markdown",
      "source": "# Link To Azure Notebook:\n\nhttps://notebooks.azure.com/randja/projects/minesweeper-logic-agent\n\n# The Program Below Won't Run In Here, But I'll Throw It Down There Anyway:\n\n## THIS ONE START'S IT \\/"
    },
    {
      "metadata": {
        "trusted": true
      },
      "cell_type": "code",
      "source": "from locateboard import *\nfrom square import *\nfrom update_board import *\nfrom play import *\n\n\ntypeofmines = input(\"What Online Minesweeper Are You Using?\\n1. Minesweeper.online\\n2. Minesweeperonline.com\\n\\n\")\n# smile, blank, one, two, three, four, empty\nif typeofmines == 2:\n    tiles = ['img/minesweeperonline.com/smile2.png', 'img/minesweeperonline.com/blank.png', 'img/minesweeperonline.com/one.png',\n             'img/minesweeperonline.com/two.png', 'img/minesweeperonline.com/three.png', 'img/minesweeperonline.com/four.png',\n             'img/minesweeperonline.com/empty.png', 'img/minesweeperonline.com/flag.png', 'img/minesweeperonline.com/bomb.png']\nelse:\n    tiles = ['img/minesweeper.online/smile1.png', 'img/minesweeper.online/blank1.png', 'img/minesweeper.online/one1.png',\n             'img/minesweeper.online/two1.png', 'img/minesweeper.online/three1.png', 'img/minesweeper.online/four1.png',\n             'img/minesweeper.online/empty1.png', 'img/minesweeper.online/flag.png', 'img/minesweeper.online/bomb.png']\n\nboard = get_blanks(tiles[0], tiles[1])\nsquares = []\nfor i in range(len(board)):\n    me = Square(board[i][0], board[i][1], board[i][2], board[i][3], name='S{}'.format(i + 1))\n    squares.append(me)\nboardholder = {}\n\n# ## This parts a bit of a mess, but it creates the surroundings################################################\nboardss = [[]]\nb = []\nstart = 0\nleft = squares[0].left\nright = 0\nfor i in range(len(squares)):\n    if squares[i].left == left and i != 0:\n        boardss.insert(start, b)\n        b = []\n        start += 1\n    b.append(squares[i])\n    s = str(squares[i].left) + str(squares[i].top)  # creates a dict of all the squares with the key as their\n    boardholder[s] = squares[i]                     # left + top coords (this makes for easier updating)\nboardss.insert(start, b)\nb = []\n\nfor i in range(len(boardss)-2):  # -2 because it creates an empty bottom layer that doesnt matter all that much\n    for j in range(len(boardss[i])-1):\n        if i > 0: # if not top layer\n            if j > 0:\n                boardss[i][j].surroundings[0][0] = boardss[i - 1][j - 1]  # topleft\n            boardss[i][j].surroundings[0][1] = boardss[i - 1][j]  # top\n            if j < len(boardss[i])-1:\n                boardss[i][j].surroundings[0][2] = boardss[i - 1][j + 1]  # topright\n        if j > 0:\n            boardss[i][j].surroundings[0][3] = boardss[i][j - 1]  # left\n        if j < len(boardss[i])-1:\n            boardss[i][j].surroundings[0][4] = boardss[i][j + 1]  # right\n        if i < len(boardss)-2:  # if not bottom layer\n            if j > 0:\n                boardss[i][j].surroundings[0][5] = boardss[i + 1][j - 1]  # bottomleft\n            boardss[i][j].surroundings[0][6] = boardss[i + 1][j]  # bottom\n            if j < len(boardss[i])-1:\n                boardss[i][j].surroundings[0][7] = boardss[i + 1][j + 1]  # bottomright\n#####################################################################\n\n[gameLocX, gameLocY, _, _] = pyautogui.locateOnScreen(tiles[0], grayscale=False, confidence=.5)\n\n# originally (tiles, squares, ... (in case it mattered)\nupdate(tiles, boardss, boardholder, gameLocX, gameLocY)\npyautogui.click(x=squares[0].left + 10, y=squares[0].top + 10)  # Slaps the four corners, opens up a lot of the board\nupdate(tiles, boardss, boardholder, gameLocX, gameLocY)\nif boardss[0][len(boardss[0])-1].flagged is False:\n    pyautogui.click(x=boardss[0][len(boardss[0])-1].left + 10, y=boardss[0][len(boardss[0])-1].top + 10)\nupdate(tiles, boardss, boardholder, gameLocX, gameLocY)\nif boardss[len(boardss)-2][0].flagged is False:\n    pyautogui.click(x=boardss[len(boardss)-2][0].left + 10, y=boardss[len(boardss)-2][0].top + 10)\nupdate(tiles, boardss, boardholder, gameLocX, gameLocY)\nif boardss[len(boardss)-2][len(boardss[0])-1].flagged is False:\n    pyautogui.click(x=boardss[len(boardss)-2][len(boardss[0])-1].left + 10, y=boardss[len(boardss)-2][len(boardss[0])-1].top + 10)\nupdate(tiles, boardss, boardholder, gameLocX, gameLocY)\nupdate(tiles, boardss, boardholder, gameLocX, gameLocY)\nplay(tiles, boardss, boardholder, gameLocX, gameLocY)\n",
      "execution_count": null,
      "outputs": []
    },
    {
      "metadata": {},
      "cell_type": "markdown",
      "source": "# Then It Moves To This One After: \\/"
    },
    {
      "metadata": {
        "trusted": true
      },
      "cell_type": "code",
      "source": "from locateboard import *\nfrom update_board import *\nimport pyautogui\n\n\ndef play(tiles, board, boardholder, gameLocX, gameLocY):\n    i = 0\n    scanXStart = board[0][0].left - 5\n    scanYStart = board[0][0].top - 10\n    scanXEnd = board[len(board) - 2][len(board[0]) - 1].left + board[len(board) - 2][len(board[0]) - 1].width + 5\n    scanYEnd = board[len(board) - 2][len(board[0]) - 1].top + board[len(board) - 2][len(board[0]) - 1].height + 10\n    noend = True\n    previous = \"\"\n    while noend:\n        blanks = list(pyautogui.locateAllOnScreen(tiles[1], grayscale=True, region=(scanXStart, scanYStart, scanXEnd, scanYEnd)))\n        holder = update(tiles, board, boardholder, gameLocX, gameLocY)\n        bomb = getleastlikely(blanks, holder)\n\n        if previous is bomb:\n            blanks.remove(bomb)\n            bomb = getleastlikely(blanks, holder)\n        previous = bomb\n        update(tiles, board, boardholder, gameLocX, gameLocY)\n        if bomb.flagged == True:\n            continue\n        pyautogui.click(x=bomb.left + 10, y=bomb.top + 10)\n\n        i += 1\n        if i == 20:\n            noend = False\n",
      "execution_count": null,
      "outputs": []
    }
  ],
  "metadata": {
    "kernelspec": {
      "name": "python36",
      "display_name": "Python 3.6",
      "language": "python"
    },
    "language_info": {
      "mimetype": "text/x-python",
      "nbconvert_exporter": "python",
      "name": "python",
      "pygments_lexer": "ipython3",
      "version": "3.6.6",
      "file_extension": ".py",
      "codemirror_mode": {
        "version": 3,
        "name": "ipython"
      }
    }
  },
  "nbformat": 4,
  "nbformat_minor": 2
}