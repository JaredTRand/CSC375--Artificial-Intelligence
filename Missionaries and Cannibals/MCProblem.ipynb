{
  "cells": [
    {
      "metadata": {},
      "cell_type": "markdown",
      "source": "# Project 2: Vacuum Cleaner Agent\n## Author: Jared Rand\n\n"
    },
    {
      "metadata": {},
      "cell_type": "markdown",
      "source": "### Purpose:\nWrite a search algorithm to find the steps which solve the Prisoner and Guard (or Missionary Cannibals) problem.\n\n# Introduction:\nIn this project we were meant to create a search algorithm to find the solution to the Missionary Cannibals problem. For some reason I decided that I didn't want to take the time to figure out how the provided code worked, so instead I took way more time and made my own solution from scratch."
    },
    {
      "metadata": {},
      "cell_type": "markdown",
      "source": "# Discussion Of Solution:\n\n## Search Tree"
    },
    {
      "metadata": {},
      "cell_type": "markdown",
      "source": "I made a tree that can create child nodes based on the move set given to it. Typically, there are only 5 possible moves that can be made, so each node created can have 5 children. It can also create a level, where it makes all the children for all the possible nodes. If any nodes make impossible or unnecessary moves, they are ended. My solution searches each new level for the goal state, and if it doesn't find it then it generates a new level until a solution is found. "
    },
    {
      "metadata": {
        "trusted": false
      },
      "cell_type": "code",
      "source": "def find_solution(mytree, goal):\n    this = False\n    while this is False:\n        for i in range(len(mytree.level_nodes)):\n            if np.array_equal(mytree.level_nodes[i].data, goal):\n                print(\"\\n::: SOLUTION FOUND :::\\n\"\n                      \"::: NODE {}      :::\".format(mytree.level_nodes[i].name), end='')\n                mytree.print_path(mytree.level_nodes[i])\n\n                if input(\"Find Next Solution?(y/n)\") == 'y':\n                    break\n                else:\n                    this = True\n                    return mytree.level_nodes[i]\n\n        mytree.generate_level()\n        if mytree.level >= 50:    # Just to catch it if it explodes for some reason\n            print(\"\\n:: OVERFLOWED :: \\nGIVEN INPUTS MOST LIKELY IMPOSSIBLE TO SOLVE\\nPLEASE TRY AGAIN\")\n            print(input(\"\\n:: Press Enter To Exit ::\\n\") or \"\")\n            quit()                  # Shouldn't happen unless given impossible inputs",
      "execution_count": null,
      "outputs": []
    },
    {
      "metadata": {},
      "cell_type": "markdown",
      "source": "The code above is what searches for the solution. It checks each node in the level to see if it's the goal state. If it is, you can choose to stop or find the next solution. If it isn't, it just goes back to generate another level. "
    },
    {
      "metadata": {
        "trusted": false
      },
      "cell_type": "code",
      "source": "        middle = int(len(cur) / 2) - 1\n        boatleft = False\n        if cur[middle] == 1:  # checks which side the boat is on\n            boatleft = True\n\n        uselessness = np.array([1])\n\n        j = 0\n        i = 0\n        for i in range(middle+1):\n            if boatleft is True:                             # data = [0 1 1], \"moves\" the 2nd and 3rd to 5th and 6th\n                cur[i] = cur[i] - data[j]                    # cur = [3 3 1 0 0 0] This iterates through the first 3 and last 3\n                cur[middle+i+1] = cur[middle+i+1] + data[j]  # cur = [3 2 0 0 1 1]\n            else:                                            # This counts as moving 1 cannibal in the boat\n                cur[i] = cur[i] + data[j]\n                cur[middle+i+1] = cur[middle+i+1] - data[j]\n\n            if self.level >= 2:\n                uselessness = parent.parent.data\n            if cur[i] <= -1 or cur[middle+i] <= -1 \\\n                    or np.array_equal(uselessness, cur): # checks if the move is illegal or unecessary\n                noodle.end = True                        # If it is, it ends the node\n                noodle.name = \"ENDED\"\n                self.n -= 1\n                break\n            j += 1\n            if j >= 3:\n                j = 0",
      "execution_count": null,
      "outputs": []
    },
    {
      "metadata": {},
      "cell_type": "markdown",
      "source": "The code above shows the part of the program that creates the moves for each new node. It adds or subtracts based on which side the boat is on. After that, if there are more than 2 levels created, it begins to check if it's making unecessary moves, alongside the illegal move checks (where if one of the positions = -1). "
    },
    {
      "metadata": {
        "trusted": false
      },
      "cell_type": "code",
      "source": "        if cur[0] > 0 and cur[3] > 0:               # Checks if the missonaries is > 0\n            if cur[0] < cur[1] or cur[3] < cur[4]:  # Before checking if number of cannibals is greater\n                noodle.end = True                   # If the cannibals are greater, it's not a viable option\n                noodle.name = \"ENDED\"\n                self.n -= 1",
      "execution_count": null,
      "outputs": []
    },
    {
      "metadata": {},
      "cell_type": "markdown",
      "source": "The code above is another part of the illegal move checking, where it makes sure that the cannibals don't outnumber the missionaries on either side. If there aren't any missionaries, then it doesn't check because it doesn't matter. \n"
    },
    {
      "metadata": {
        "trusted": false
      },
      "cell_type": "code",
      "source": "    def generate_level(self):\n        self.level += 1\n        self.n = 0\n        newlevelnodes = []\n\n        i = 0\n        for i in range(len(self.level_nodes)):  # For each node in the level\n            if self.level_nodes[i].end is True:  # If the node isn't ended, it makes new children for it\n                break                           # otherwise it skips it\n            j = 0\n            for j in range(len(self.possibles)):    # makes a new child node for each possible move\n                node = self.generate_child(self.level_nodes[i], self.possibles[j])\n\n                if node.end is False:\n                    newlevelnodes.append(node)\n\n        self.level_nodes = newlevelnodes\n        print(\"GENERATED LEVEL {} ({} NODES)\".format(self.level, len(self.level_nodes)))",
      "execution_count": null,
      "outputs": []
    },
    {
      "metadata": {},
      "cell_type": "markdown",
      "source": "And this code above is that part that generates each new level based on the already generated nodes. During the first loops, it checks if the current node is ended. If it is, it skips it, but if it isn't then it goes into the next loop where it makes a child node for each of the possible moves. If it's a valid move, then it adds it to the list of nodes in the level."
    },
    {
      "metadata": {},
      "cell_type": "markdown",
      "source": "# Testing Design and Expected Results:\n\nThere wasn't much in the way of testing besides just making sure that it can find the best solutions without exploding. Mine can find the default (3m 3c) solution just fine, but it has a bigger chance of messing up when you change the values for missionaries and cannibals. It can find the solution most of the time if it is solvable, but it doesn't have a good way to catch impossible scenarios. \n\n"
    },
    {
      "metadata": {},
      "cell_type": "markdown",
      "source": "I'm not sure if there is a limit to the number of misionaries and cannibals that can be moved, because once you start getting into the really large numbers in my program, it really starts to slow down and I didn't want to test the limits of the program or my computer. Plus, you need to know how big of a boat is required to move the larger amount of missionaries and cannibals, because there won't be a solution otherwise. You can't move 10 Missionaries and 10 Cannibals on a boat that carries 2. \n\nI would wager that you could move many more than 3 and 3, I just don't think my program is efficient enough to test that. It possible I did something wrong that makes it generate way more nodes than it needs, but I believe that I did that correctly."
    },
    {
      "metadata": {},
      "cell_type": "markdown",
      "source": "# Actual Results:\n\nThe results for the program will look something like this:\n"
    },
    {
      "metadata": {
        "trusted": false
      },
      "cell_type": "code",
      "source": "\n::: SOLUTION FOUND IN 0.01s :::\n::: NODE 11-3      :::\n\nPATH:\n\n0-0(ROOT)\nM 3 ||| 0\nC 3 ||| 0\nB 1 ||| 0\n\n1-1\nM 2 ||| 1\nC 2 ||| 1\nB 0 ||| 1\n\n2-0\nM 3 ||| 0\nC 2 ||| 1\nB 1 ||| 0\n\n3-1\nM 3 ||| 0\nC 0 ||| 3\nB 0 ||| 1\n\n4-1\nM 3 ||| 0\nC 1 ||| 2\nB 1 ||| 0\n\n5-2\nM 1 ||| 2\nC 1 ||| 2\nB 0 ||| 1\n\n6-0\nM 2 ||| 1\nC 2 ||| 1\nB 1 ||| 0\n\n7-2\nM 0 ||| 3\nC 2 ||| 1\nB 0 ||| 1\n\n8-2\nM 0 ||| 3\nC 3 ||| 0\nB 1 ||| 0\n\n9-3\nM 0 ||| 3\nC 1 ||| 2\nB 0 ||| 1\n\n10-1\nM 0 ||| 3\nC 2 ||| 1\nB 1 ||| 0\n\n11-3\nM 0 ||| 3\nC 0 ||| 3\nB 0 ||| 1",
      "execution_count": null,
      "outputs": []
    },
    {
      "metadata": {},
      "cell_type": "markdown",
      "source": "\nOnce it finds the solution, it prints out the path all the way back up to the root node. I'm proud of this part because I like the way that it looks :)"
    },
    {
      "metadata": {},
      "cell_type": "markdown",
      "source": "<img src=\"img/capture2.jpg\">\n<img src=\"img/capture.jpg\">"
    },
    {
      "metadata": {},
      "cell_type": "markdown",
      "source": "The above is the largest I went, 7 Missionaries 7 Cannibals and boat size of 4. As you can see, it gets a little wild. The final level generated nearly 300,000 nodes, so either I clearly messed up somewhere with blocking unecessary moves or there are just that many moves for larger number sets. "
    },
    {
      "metadata": {
        "trusted": true
      },
      "cell_type": "code",
      "source": "GENERATED LEVEL 1 (5 NODES)\nGENERATED LEVEL 2 (4 NODES)\nGENERATED LEVEL 3 (11 NODES)\nGENERATED LEVEL 4 (18 NODES)\nGENERATED LEVEL 5 (42 NODES)\n\n:::::::::::::::::::::::::::::::::\n::: SOLUTION FOUND IN 0.01s :::::\n::: NODE 5-11    ::::::::::::::::\n:::::::::::::::::::::::::::::::::\n\nPATH:\n\n0-0(ROOT)\nM 3 ||| 0\nC 3 ||| 0\nB 1 ||| 0\n\n1-1\nM 2 ||| 1\nC 2 ||| 1\nB 0 ||| 1\n\n2-0\nM 3 ||| 0\nC 2 ||| 1\nB 1 ||| 0\n\n3-2\nM 0 ||| 3\nC 2 ||| 1\nB 0 ||| 1\n\n4-3\nM 0 ||| 3\nC 3 ||| 0\nB 1 ||| 0\n\n5-11\nM 0 ||| 3\nC 0 ||| 3\nB 0 ||| 1",
      "execution_count": null,
      "outputs": []
    },
    {
      "metadata": {},
      "cell_type": "markdown",
      "source": "The results above are for a run with 3 missionaries, 3 cannibals and a boat size of 3. It only takes 5 moves to get everyone across"
    },
    {
      "metadata": {},
      "cell_type": "markdown",
      "source": "# Discussion Of Results:\n\n\nI think that in my unecessary move checking part of the program I didn't think to check for more than 2 moves back. I think there's a good chance that it keeps generating nodes that are equivilent to moves it made before, just further than I checked for. If I find a better solution I'll update this notebook, but otherwise I think that's the biggest problem I currently have. \n"
    },
    {
      "metadata": {},
      "cell_type": "markdown",
      "source": "# Conclusion:\n\n\n\n\n\n# Link To Azure Notebook:\n\n### https://notebooks.azure.com/randja/projects/missionaries-and-cannibals"
    },
    {
      "metadata": {},
      "cell_type": "markdown",
      "source": "\n# Code below runs everything:"
    },
    {
      "metadata": {
        "trusted": true
      },
      "cell_type": "code",
      "source": "import numpy as nump\nimport pdb\nfrom newTree import *\n\n\ndef breadth_search():\n    ################ SETTING VALUES ####################################################################################\n    m = 3   # missionaries\n    c = 3   # cannibals\n    b = 2   # boat capacity\n    print(\"MISSIONARIES AND CANNIBALS\")\n    if input(\"Use Default Values? (y/n) \") == 'n':\n        m = int(input(\"Number of Missionaries(Default = 3): \") or 3)\n        c = int(input(\"Number of Cannibals(Default = 3): \") or 3)\n        b = int(input(\"Boat Capacity(Default = 2): \") or 2)\n        print(\"M: {}   C: {}   B: {} \\n\".format(m, c, b))\n    if b < 2:\n        b = 2\n        print(\"\\n  Boat Cannot Have Capacity Smaller Than Two >:(\\n  Default Applied, Capacity = {}\\n\".format(b))\n\n    possible = nump.array([[0, 1, 1], [1, 0, 1], [1, 1, 1], [0, 2, 1], [2, 0, 1]])\n\n    if b > 2:\n        holder = []\n        i = 3\n        while i < b+1:\n            holder.append(i)\n            possible = nump.append(possible, [[0, i, 1], [i, 0, 1]], axis=0)\n            if i % 2 == 0:\n                possible = nump.append(possible, [[int(i/2), int(i/2), 1]], axis=0)\n            i += 1\n        j = len(holder)\n\n        for p in range(j):\n            x = holder[p]\n            k = 1\n            while k < int(j):\n                x = x - 1\n                y = k\n                k += 1\n                possible = nump.append(possible, [[x, y, 1], [y, x, 1]], axis=0)\n\n        x = len(possible)   # This stuff is for removing repeat move sets\n        i = 0\n        while i < x-1:\n            temp = possible[i]\n            x = len(possible)\n            k = 0\n            while k < x-1:\n                if (possible[k] == temp).all() and i != k:\n                    possible = nump.delete(possible, k, 0)\n                    x -= 1\n                k += 1\n            i += 1\n\n    print(\"Possible Moves:\\n {} \\n\".format(possible))\n    ####################################################################################################################\n\n                   # LEFTSIDE ||| RIGHTSIDE\n    node = nump.array([m, c, 1,  0, 0, 0])\n    goal = nump.array([0, 0, 0,  m, c, 1])\n\n    mytree = MyTree(node, goal, possibles=possible)\n\n    find_solution(mytree, goal)\n\n\nbreadth_search()",
      "execution_count": null,
      "outputs": [
        {
          "output_type": "stream",
          "text": "MISSIONARIES AND CANNIBALS\n",
          "name": "stdout"
        }
      ]
    },
    {
      "metadata": {
        "trusted": false
      },
      "cell_type": "code",
      "source": "",
      "execution_count": null,
      "outputs": []
    }
  ],
  "metadata": {
    "kernelspec": {
      "name": "python3",
      "display_name": "Python 3",
      "language": "python"
    },
    "language_info": {
      "mimetype": "text/x-python",
      "nbconvert_exporter": "python",
      "name": "python",
      "file_extension": ".py",
      "version": "3.5.4",
      "pygments_lexer": "ipython3",
      "codemirror_mode": {
        "version": 3,
        "name": "ipython"
      }
    }
  },
  "nbformat": 4,
  "nbformat_minor": 2
}